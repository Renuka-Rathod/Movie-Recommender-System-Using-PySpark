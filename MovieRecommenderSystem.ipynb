{
  "nbformat": 4,
  "nbformat_minor": 0,
  "metadata": {
    "colab": {
      "provenance": []
    },
    "kernelspec": {
      "name": "python3",
      "display_name": "Python 3"
    },
    "language_info": {
      "name": "python"
    }
  },
  "cells": [
    {
      "cell_type": "code",
      "execution_count": null,
      "metadata": {
        "id": "7AL7KYVX3CxH",
        "colab": {
          "base_uri": "https://localhost:8080/"
        },
        "outputId": "df6134ab-3b1a-4bfd-df2f-b49c4321c06a"
      },
      "outputs": [
        {
          "output_type": "stream",
          "name": "stdout",
          "text": [
            "Collecting pyspark\n",
            "  Downloading pyspark-3.5.2.tar.gz (317.3 MB)\n",
            "\u001b[2K     \u001b[90m━━━━━━━━━━━━━━━━━━━━━━━━━━━━━━━━━━━━━━━━\u001b[0m \u001b[32m317.3/317.3 MB\u001b[0m \u001b[31m1.4 MB/s\u001b[0m eta \u001b[36m0:00:00\u001b[0m\n",
            "\u001b[?25h  Preparing metadata (setup.py) ... \u001b[?25l\u001b[?25hdone\n",
            "Requirement already satisfied: py4j==0.10.9.7 in /usr/local/lib/python3.10/dist-packages (from pyspark) (0.10.9.7)\n",
            "Building wheels for collected packages: pyspark\n",
            "  Building wheel for pyspark (setup.py) ... \u001b[?25l\u001b[?25hdone\n",
            "  Created wheel for pyspark: filename=pyspark-3.5.2-py2.py3-none-any.whl size=317812365 sha256=fb6d4b214db7340be8a45622fb807ae9c71a27c99dc79bba5fcecb9cff62c4f6\n",
            "  Stored in directory: /root/.cache/pip/wheels/34/34/bd/03944534c44b677cd5859f248090daa9fb27b3c8f8e5f49574\n",
            "Successfully built pyspark\n",
            "Installing collected packages: pyspark\n",
            "Successfully installed pyspark-3.5.2\n"
          ]
        }
      ],
      "source": [
        "!pip install pyspark"
      ]
    },
    {
      "cell_type": "markdown",
      "source": [
        "#Step 1: Creating a PySpark Session\n"
      ],
      "metadata": {
        "id": "jyzTOBEXIdhZ"
      }
    },
    {
      "cell_type": "code",
      "source": [
        "# import the required libraries\n",
        "import time\n",
        "import pyspark\n",
        "from pyspark.sql import SparkSession\n",
        "spark = SparkSession.builder.appName('recommendation').getOrCreate()"
      ],
      "metadata": {
        "id": "rfwd-Qfi5Rb6"
      },
      "execution_count": null,
      "outputs": []
    },
    {
      "cell_type": "markdown",
      "source": [
        "\n",
        "#Step 2: Loading and Preprocessing Data"
      ],
      "metadata": {
        "id": "f19s4VzRLHRL"
      }
    },
    {
      "cell_type": "code",
      "source": [
        "# load the datasets using pyspark\n",
        "movies = spark.read.load(\"/content/movies.csv\", format='csv', header = True)\n",
        "ratings = spark.read.load('/content/ratings.csv', format='csv', header = True)\n",
        "links = spark.read.load(\"/content/links.csv\", format='csv', header = True)\n",
        "tags = spark.read.load(\"/content/tags.csv\", format='csv', header = True)\n",
        "ratings.show()\n",
        "movies.show()\n",
        "links.show()\n",
        "tags.show()"
      ],
      "metadata": {
        "id": "cwLvqSpX5RYa",
        "colab": {
          "base_uri": "https://localhost:8080/"
        },
        "outputId": "81951875-9bfe-4f09-88c4-9c09adb0f003"
      },
      "execution_count": null,
      "outputs": [
        {
          "output_type": "stream",
          "name": "stdout",
          "text": [
            "+------+-------+------+---------+\n",
            "|userId|movieId|rating|timestamp|\n",
            "+------+-------+------+---------+\n",
            "|     1|      1|   4.0|964982703|\n",
            "|     1|      3|   4.0|964981247|\n",
            "|     1|      6|   4.0|964982224|\n",
            "|     1|     47|   5.0|964983815|\n",
            "|     1|     50|   5.0|964982931|\n",
            "|     1|     70|   3.0|964982400|\n",
            "|     1|    101|   5.0|964980868|\n",
            "|     1|    110|   4.0|964982176|\n",
            "|     1|    151|   5.0|964984041|\n",
            "|     1|    157|   5.0|964984100|\n",
            "|     1|    163|   5.0|964983650|\n",
            "|     1|    216|   5.0|964981208|\n",
            "|     1|    223|   3.0|964980985|\n",
            "|     1|    231|   5.0|964981179|\n",
            "|     1|    235|   4.0|964980908|\n",
            "|     1|    260|   5.0|964981680|\n",
            "|     1|    296|   3.0|964982967|\n",
            "|     1|    316|   3.0|964982310|\n",
            "|     1|    333|   5.0|964981179|\n",
            "|     1|    349|   4.0|964982563|\n",
            "+------+-------+------+---------+\n",
            "only showing top 20 rows\n",
            "\n",
            "+-------+--------------------+--------------------+\n",
            "|movieId|               title|              genres|\n",
            "+-------+--------------------+--------------------+\n",
            "|      1|    Toy Story (1995)|Adventure|Animati...|\n",
            "|      2|      Jumanji (1995)|Adventure|Childre...|\n",
            "|      3|Grumpier Old Men ...|      Comedy|Romance|\n",
            "|      4|Waiting to Exhale...|Comedy|Drama|Romance|\n",
            "|      5|Father of the Bri...|              Comedy|\n",
            "|      6|         Heat (1995)|Action|Crime|Thri...|\n",
            "|      7|      Sabrina (1995)|      Comedy|Romance|\n",
            "|      8| Tom and Huck (1995)|  Adventure|Children|\n",
            "|      9| Sudden Death (1995)|              Action|\n",
            "|     10|    GoldenEye (1995)|Action|Adventure|...|\n",
            "|     11|American Presiden...|Comedy|Drama|Romance|\n",
            "|     12|Dracula: Dead and...|       Comedy|Horror|\n",
            "|     13|        Balto (1995)|Adventure|Animati...|\n",
            "|     14|        Nixon (1995)|               Drama|\n",
            "|     15|Cutthroat Island ...|Action|Adventure|...|\n",
            "|     16|       Casino (1995)|         Crime|Drama|\n",
            "|     17|Sense and Sensibi...|       Drama|Romance|\n",
            "|     18|   Four Rooms (1995)|              Comedy|\n",
            "|     19|Ace Ventura: When...|              Comedy|\n",
            "|     20|  Money Train (1995)|Action|Comedy|Cri...|\n",
            "+-------+--------------------+--------------------+\n",
            "only showing top 20 rows\n",
            "\n",
            "+-------+-------+------+\n",
            "|movieId| imdbId|tmdbId|\n",
            "+-------+-------+------+\n",
            "|      1|0114709|   862|\n",
            "|      2|0113497|  8844|\n",
            "|      3|0113228| 15602|\n",
            "|      4|0114885| 31357|\n",
            "|      5|0113041| 11862|\n",
            "|      6|0113277|   949|\n",
            "|      7|0114319| 11860|\n",
            "|      8|0112302| 45325|\n",
            "|      9|0114576|  9091|\n",
            "|     10|0113189|   710|\n",
            "|     11|0112346|  9087|\n",
            "|     12|0112896| 12110|\n",
            "|     13|0112453| 21032|\n",
            "|     14|0113987| 10858|\n",
            "|     15|0112760|  1408|\n",
            "|     16|0112641|   524|\n",
            "|     17|0114388|  4584|\n",
            "|     18|0113101|     5|\n",
            "|     19|0112281|  9273|\n",
            "|     20|0113845| 11517|\n",
            "+-------+-------+------+\n",
            "only showing top 20 rows\n",
            "\n",
            "+------+-------+-----------------+----------+\n",
            "|userId|movieId|              tag| timestamp|\n",
            "+------+-------+-----------------+----------+\n",
            "|     2|  60756|            funny|1445714994|\n",
            "|     2|  60756|  Highly quotable|1445714996|\n",
            "|     2|  60756|     will ferrell|1445714992|\n",
            "|     2|  89774|     Boxing story|1445715207|\n",
            "|     2|  89774|              MMA|1445715200|\n",
            "|     2|  89774|        Tom Hardy|1445715205|\n",
            "|     2| 106782|            drugs|1445715054|\n",
            "|     2| 106782|Leonardo DiCaprio|1445715051|\n",
            "|     2| 106782|  Martin Scorsese|1445715056|\n",
            "|     7|  48516|     way too long|1169687325|\n",
            "|    18|    431|        Al Pacino|1462138765|\n",
            "|    18|    431|         gangster|1462138749|\n",
            "|    18|    431|            mafia|1462138755|\n",
            "|    18|   1221|        Al Pacino|1461699306|\n",
            "|    18|   1221|            Mafia|1461699303|\n",
            "|    18|   5995|        holocaust|1455735472|\n",
            "|    18|   5995|       true story|1455735479|\n",
            "|    18|  44665|     twist ending|1456948283|\n",
            "|    18|  52604|  Anthony Hopkins|1457650696|\n",
            "|    18|  52604|  courtroom drama|1457650711|\n",
            "+------+-------+-----------------+----------+\n",
            "only showing top 20 rows\n",
            "\n"
          ]
        }
      ]
    },
    {
      "cell_type": "code",
      "source": [
        "# print the schema to understand the data types of features\n",
        "ratings = ratings.select(\"userId\", \"movieId\", \"rating\")\n",
        "ratings.printSchema()"
      ],
      "metadata": {
        "id": "YCcyEg-F5RVm",
        "colab": {
          "base_uri": "https://localhost:8080/"
        },
        "outputId": "fa4d4787-17e2-4177-bf8c-dcb7f7fe50cb"
      },
      "execution_count": null,
      "outputs": [
        {
          "output_type": "stream",
          "name": "stdout",
          "text": [
            "root\n",
            " |-- userId: string (nullable = true)\n",
            " |-- movieId: string (nullable = true)\n",
            " |-- rating: string (nullable = true)\n",
            "\n"
          ]
        }
      ]
    },
    {
      "cell_type": "code",
      "source": [
        "# convert the data type to integer and float\n",
        "df = ratings.withColumn('userId', ratings['userId'].cast('int')).\\\n",
        "withColumn('movieId', ratings['movieId'].cast('int')).withColumn('rating', ratings['rating'].cast('float'))\n",
        "df.printSchema()"
      ],
      "metadata": {
        "colab": {
          "base_uri": "https://localhost:8080/"
        },
        "id": "a94Pui2RLQdU",
        "outputId": "08a3d6ac-66e8-4087-ef3d-5530622f8b97"
      },
      "execution_count": null,
      "outputs": [
        {
          "output_type": "stream",
          "name": "stdout",
          "text": [
            "root\n",
            " |-- userId: integer (nullable = true)\n",
            " |-- movieId: integer (nullable = true)\n",
            " |-- rating: float (nullable = true)\n",
            "\n"
          ]
        }
      ]
    },
    {
      "cell_type": "code",
      "source": [
        "# split the data into train, validation and test sets\n",
        "train, validation, test = df.randomSplit([0.6,0.2,0.2], seed = 0)\n",
        "print(\"The number of ratings in each set: {}, {}, {}\".format(train.count(), validation.count(), test.count()))"
      ],
      "metadata": {
        "colab": {
          "base_uri": "https://localhost:8080/"
        },
        "id": "51-eM8QkLQZ8",
        "outputId": "da292513-4c37-4520-e19d-a344474e1abe"
      },
      "execution_count": null,
      "outputs": [
        {
          "output_type": "stream",
          "name": "stdout",
          "text": [
            "The number of ratings in each set: 60435, 20052, 20349\n"
          ]
        }
      ]
    },
    {
      "cell_type": "markdown",
      "source": [
        "#Step 3: Model Training and Validation"
      ],
      "metadata": {
        "id": "ymn3lmnjTyz9"
      }
    },
    {
      "cell_type": "code",
      "source": [
        "from pyspark.sql.functions import col, sqrt\n",
        "def RMSE(predictions):\n",
        "    squared_diff = predictions.withColumn(\"squared_diff\", pow(col(\"rating\") - col(\"prediction\"), 2))\n",
        "    mse = squared_diff.selectExpr(\"mean(squared_diff) as mse\").first().mse\n",
        "    return mse ** 0.5"
      ],
      "metadata": {
        "id": "ET02WBeGLQWv"
      },
      "execution_count": null,
      "outputs": []
    },
    {
      "cell_type": "code",
      "source": [
        "# implement the model using ALS algorithm and find the right hyperparameters using Grid Search\n",
        "from pyspark.ml.recommendation import ALS\n",
        "\n",
        "def GridSearch(train, valid, num_iterations, reg_param, n_factors):\n",
        "    min_rmse = float('inf')\n",
        "    best_n = -1\n",
        "    best_reg = 0\n",
        "    best_model = None\n",
        "    # run Grid Search for all the parameter defined in the range in a loop\n",
        "    for n in n_factors:\n",
        "        for reg in reg_param:\n",
        "            als = ALS(rank = n,\n",
        "                      maxIter = num_iterations,\n",
        "                      seed = 0,\n",
        "                      regParam = reg,\n",
        "                      userCol=\"userId\",\n",
        "                      itemCol=\"movieId\",\n",
        "                      ratingCol=\"rating\",\n",
        "                      coldStartStrategy=\"drop\")\n",
        "            model = als.fit(train)\n",
        "            predictions = model.transform(valid)\n",
        "            rmse = RMSE(predictions)\n",
        "            print('{} latent factors and regularization = {}: validation RMSE is {}'.format(n, reg, rmse))\n",
        "            # track the best model using RMSE\n",
        "            if rmse < min_rmse:\n",
        "                min_rmse = rmse\n",
        "                best_n = n\n",
        "                best_reg = reg\n",
        "                best_model = model\n",
        "\n",
        "    pred = best_model.transform(train)\n",
        "    train_rmse = RMSE(pred)\n",
        "    # best model and its metrics\n",
        "    print('\\nThe best model has {} latent factors and regularization = {}:'.format(best_n, best_reg))\n",
        "    print('traning RMSE is {}; validation RMSE is {}'.format(train_rmse, min_rmse))\n",
        "    return best_model"
      ],
      "metadata": {
        "id": "P0ypozDuLQTy"
      },
      "execution_count": null,
      "outputs": []
    },
    {
      "cell_type": "code",
      "source": [
        "# build the model using different ranges for Grid Search\n",
        "from pyspark.sql.functions import col, sqrt\n",
        "num_iterations = 10\n",
        "ranks = [6, 8, 10, 12]\n",
        "reg_params = [0.05, 0.1, 0.2, 0.4, 0.8]\n",
        "\n",
        "start_time = time.time()\n",
        "final_model = GridSearch(train, validation, num_iterations, reg_params, ranks)\n",
        "print('Total Runtime: {:.2f} seconds'.format(time.time() - start_time))"
      ],
      "metadata": {
        "colab": {
          "base_uri": "https://localhost:8080/"
        },
        "id": "LuewbLUzT51v",
        "outputId": "78c86103-2b3f-41e0-d59d-01aee4993cbb"
      },
      "execution_count": null,
      "outputs": [
        {
          "output_type": "stream",
          "name": "stdout",
          "text": [
            "6 latent factors and regularization = 0.05: validation RMSE is 0.9774929358976446\n",
            "6 latent factors and regularization = 0.1: validation RMSE is 0.9129091203678512\n",
            "6 latent factors and regularization = 0.2: validation RMSE is 0.8951553355978934\n",
            "6 latent factors and regularization = 0.4: validation RMSE is 0.9694803162186382\n",
            "6 latent factors and regularization = 0.8: validation RMSE is 1.1934058842790796\n",
            "8 latent factors and regularization = 0.05: validation RMSE is 0.9911454471125616\n",
            "8 latent factors and regularization = 0.1: validation RMSE is 0.9168968729472543\n",
            "8 latent factors and regularization = 0.2: validation RMSE is 0.8984989562331739\n",
            "8 latent factors and regularization = 0.4: validation RMSE is 0.9702570878824905\n",
            "8 latent factors and regularization = 0.8: validation RMSE is 1.1934001733725708\n",
            "10 latent factors and regularization = 0.05: validation RMSE is 0.9978579823667801\n",
            "10 latent factors and regularization = 0.1: validation RMSE is 0.9176672164670597\n",
            "10 latent factors and regularization = 0.2: validation RMSE is 0.8987281158564602\n",
            "10 latent factors and regularization = 0.4: validation RMSE is 0.9695217416380556\n",
            "10 latent factors and regularization = 0.8: validation RMSE is 1.1934037215306557\n",
            "12 latent factors and regularization = 0.05: validation RMSE is 1.0053856094143792\n",
            "12 latent factors and regularization = 0.1: validation RMSE is 0.9177483804665132\n",
            "12 latent factors and regularization = 0.2: validation RMSE is 0.9000614067181035\n",
            "12 latent factors and regularization = 0.4: validation RMSE is 0.9701108563221935\n",
            "12 latent factors and regularization = 0.8: validation RMSE is 1.1934007238914266\n",
            "\n",
            "The best model has 6 latent factors and regularization = 0.2:\n",
            "traning RMSE is 0.6876113829552577; validation RMSE is 0.8951553355978934\n",
            "Total Runtime: 217.77 seconds\n"
          ]
        }
      ]
    },
    {
      "cell_type": "code",
      "source": [
        "# test the accuracy of the model on test set using RMSE\n",
        "pred_test = final_model.transform(test)\n",
        "print('The testing RMSE is ' + str(RMSE(pred_test)))"
      ],
      "metadata": {
        "colab": {
          "base_uri": "https://localhost:8080/"
        },
        "id": "pz2fLqX8T8xR",
        "outputId": "4dbdc9f5-2d97-4900-d055-8c8dc980410e"
      },
      "execution_count": null,
      "outputs": [
        {
          "output_type": "stream",
          "name": "stdout",
          "text": [
            "The testing RMSE is 0.8959197533497142\n"
          ]
        }
      ]
    },
    {
      "cell_type": "markdown",
      "source": [
        "#Step 4 : Testing the recommendations for a Single User"
      ],
      "metadata": {
        "id": "0LgJNZx2UCTl"
      }
    },
    {
      "cell_type": "code",
      "source": [
        "# test for a single user\n",
        "single_user = test.filter(test['userId']==12).select(['movieId','userId'])\n",
        "single_user.show()"
      ],
      "metadata": {
        "colab": {
          "base_uri": "https://localhost:8080/"
        },
        "id": "tZt2a3NfT_n7",
        "outputId": "4594dd8b-e072-49f1-bd3e-2305586a3f6a"
      },
      "execution_count": null,
      "outputs": [
        {
          "output_type": "stream",
          "name": "stdout",
          "text": [
            "+-------+------+\n",
            "|movieId|userId|\n",
            "+-------+------+\n",
            "|    543|    12|\n",
            "|   1357|    12|\n",
            "|   2485|    12|\n",
            "+-------+------+\n",
            "\n"
          ]
        }
      ]
    },
    {
      "cell_type": "code",
      "source": [
        "# fetch the names of the movies\n",
        "single_user.join(movies, single_user.movieId == movies.movieId, 'inner').show()"
      ],
      "metadata": {
        "colab": {
          "base_uri": "https://localhost:8080/"
        },
        "id": "xzDhkZ-iUF4C",
        "outputId": "efa4f9f0-d54a-4b3b-80cd-e8b0820141ea"
      },
      "execution_count": null,
      "outputs": [
        {
          "output_type": "stream",
          "name": "stdout",
          "text": [
            "+-------+------+-------+--------------------+--------------------+\n",
            "|movieId|userId|movieId|               title|              genres|\n",
            "+-------+------+-------+--------------------+--------------------+\n",
            "|    543|    12|    543|So I Married an A...|Comedy|Romance|Th...|\n",
            "|   1357|    12|   1357|        Shine (1996)|       Drama|Romance|\n",
            "|   2485|    12|   2485|She's All That (1...|      Comedy|Romance|\n",
            "+-------+------+-------+--------------------+--------------------+\n",
            "\n"
          ]
        }
      ]
    },
    {
      "cell_type": "code",
      "source": [
        "# verify the prediction rating for the user\n",
        "reccomendations = final_model.transform(single_user)\n",
        "reccomendations.orderBy('prediction',ascending=False).show()"
      ],
      "metadata": {
        "colab": {
          "base_uri": "https://localhost:8080/"
        },
        "id": "dx9hO7HaUI2o",
        "outputId": "2c4a5c82-a047-4d95-cde4-75ac27709ab4"
      },
      "execution_count": null,
      "outputs": [
        {
          "output_type": "stream",
          "name": "stdout",
          "text": [
            "+-------+------+----------+\n",
            "|movieId|userId|prediction|\n",
            "+-------+------+----------+\n",
            "|   1357|    12|  5.015935|\n",
            "|    543|    12| 3.6550274|\n",
            "|   2485|    12| 3.4955368|\n",
            "+-------+------+----------+\n",
            "\n"
          ]
        }
      ]
    },
    {
      "cell_type": "code",
      "source": [
        "# fetch the names of the movies\n",
        "reccomendations.join(movies, reccomendations.movieId == movies.movieId, 'inner').show()"
      ],
      "metadata": {
        "colab": {
          "base_uri": "https://localhost:8080/"
        },
        "id": "Atj9I7dVULVn",
        "outputId": "d0dcdef2-6394-4204-c761-e695676ca12a"
      },
      "execution_count": null,
      "outputs": [
        {
          "output_type": "stream",
          "name": "stdout",
          "text": [
            "+-------+------+----------+-------+--------------------+--------------------+\n",
            "|movieId|userId|prediction|movieId|               title|              genres|\n",
            "+-------+------+----------+-------+--------------------+--------------------+\n",
            "|    543|    12| 3.6550274|    543|So I Married an A...|Comedy|Romance|Th...|\n",
            "|   1357|    12|  5.015935|   1357|        Shine (1996)|       Drama|Romance|\n",
            "|   2485|    12| 3.4955368|   2485|She's All That (1...|      Comedy|Romance|\n",
            "+-------+------+----------+-------+--------------------+--------------------+\n",
            "\n"
          ]
        }
      ]
    },
    {
      "cell_type": "markdown",
      "source": [
        "#Step 5: Providing the recommendations to the user"
      ],
      "metadata": {
        "id": "l4nYjivvUV-v"
      }
    },
    {
      "cell_type": "code",
      "source": [
        "from pyspark.sql.functions import col, lit\n",
        "\n",
        "# select a single user from the test set\n",
        "user_id = 12\n",
        "single_user_ratings = test.filter(test['userId'] == user_id).select(['movieId', 'userId', 'rating'])\n",
        "\n",
        "# display the movies the user has liked\n",
        "print(\"Movies liked by user with ID\", user_id)\n",
        "single_user_ratings.join(movies, 'movieId').select('movieId', 'title', 'rating').show()\n",
        "\n",
        "# generate recommendations for the user\n",
        "all_movies = df.select('movieId').distinct()\n",
        "user_movies = single_user_ratings.select('movieId').distinct()\n",
        "movies_to_recommend = all_movies.subtract(user_movies)\n",
        "\n",
        "# predict ratings for movies the user has not rated yet\n",
        "recommendations = final_model.transform(movies_to_recommend.withColumn('userId', lit(user_id)))\n",
        "\n",
        "# filter out the movies that the user has already rated or seen (this filters out the movies that the user has not liked as well)\n",
        "recommendations = recommendations.filter(col('prediction') > 0)\n",
        "\n",
        "# display the recommendations with movie names\n",
        "print(\"Recommended movies for user with ID\", user_id)\n",
        "recommended_movies = recommendations.join(movies, 'movieId').select('movieId', 'title', 'prediction')\n",
        "\n",
        "# Sort recommended movies by prediction in descending order\n",
        "ordered_recommendations = recommended_movies.orderBy(col('prediction').desc())\n",
        "\n",
        "# Display the ordered recommendations\n",
        "ordered_recommendations.show()"
      ],
      "metadata": {
        "colab": {
          "base_uri": "https://localhost:8080/"
        },
        "id": "hyRek2EmUTDT",
        "outputId": "f51c156b-12bb-42d0-f1f2-00a2f2716725"
      },
      "execution_count": null,
      "outputs": [
        {
          "output_type": "stream",
          "name": "stdout",
          "text": [
            "Movies liked by user with ID 12\n",
            "+-------+--------------------+------+\n",
            "|movieId|               title|rating|\n",
            "+-------+--------------------+------+\n",
            "|    543|So I Married an A...|   3.5|\n",
            "|   1357|        Shine (1996)|   5.0|\n",
            "|   2485|She's All That (1...|   5.0|\n",
            "+-------+--------------------+------+\n",
            "\n",
            "Recommended movies for user with ID 12\n",
            "+-------+--------------------+----------+\n",
            "|movieId|               title|prediction|\n",
            "+-------+--------------------+----------+\n",
            "|  67618|Strictly Sexual (...| 6.1667633|\n",
            "|   3379| On the Beach (1959)|  6.117749|\n",
            "|   5867|        Thief (1981)| 5.9761686|\n",
            "|  42730|   Glory Road (2006)| 5.9761686|\n",
            "|   4535|Man from Snowy Ri...| 5.9761686|\n",
            "|   7121|   Adam's Rib (1949)| 5.9670253|\n",
            "|  60943| Frozen River (2008)|  5.941128|\n",
            "|  33649|  Saving Face (2004)| 5.9352655|\n",
            "|  25906|Mr. Skeffington (...| 5.9273853|\n",
            "|  77846| 12 Angry Men (1997)| 5.9273853|\n",
            "|   3200|Last Detail, The ...|  5.890436|\n",
            "|   3567|   Bossa Nova (2000)|  5.871084|\n",
            "|  94070|Best Exotic Marig...|  5.857238|\n",
            "|   4789|Phantom of the Pa...|  5.851138|\n",
            "|   3086|Babes in Toyland ...|  5.848856|\n",
            "| 138966|Nasu: Summer in A...|  5.843027|\n",
            "|  26928|Summer's Tale, A ...|  5.843027|\n",
            "|   3819|      Tampopo (1985)|  5.843027|\n",
            "|  84273|Zeitgeist: Moving...|  5.843027|\n",
            "| 184245|De platte jungle ...|  5.843027|\n",
            "+-------+--------------------+----------+\n",
            "only showing top 20 rows\n",
            "\n"
          ]
        }
      ]
    },
    {
      "cell_type": "code",
      "source": [],
      "metadata": {
        "id": "lEaXmUoWUZWQ"
      },
      "execution_count": null,
      "outputs": []
    },
    {
      "cell_type": "code",
      "source": [],
      "metadata": {
        "id": "EMrX3q2WUaiX"
      },
      "execution_count": null,
      "outputs": []
    },
    {
      "cell_type": "code",
      "source": [],
      "metadata": {
        "id": "7a5C0o4_Uaey"
      },
      "execution_count": null,
      "outputs": []
    },
    {
      "cell_type": "code",
      "source": [],
      "metadata": {
        "id": "eyf-ISdVUabu"
      },
      "execution_count": null,
      "outputs": []
    }
  ]
}